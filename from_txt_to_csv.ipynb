{
 "cells": [
  {
   "cell_type": "code",
   "execution_count": 1,
   "metadata": {},
   "outputs": [],
   "source": [
    "import time\n",
    "import os\n",
    "import re\n",
    "import numpy as np\n",
    "import pandas as pd\n",
    "import itertools\n",
    "from datetime import datetime\n",
    "from bsm_option_class import call_option, put_option\n",
    "from so_func import get_exercise_time, get_T, get_empty_frame\n",
    "from dateutil.relativedelta import relativedelta\n",
    "import sqlalchemy"
   ]
  },
  {
   "cell_type": "code",
   "execution_count": 2,
   "metadata": {},
   "outputs": [],
   "source": [
    "def strptime_wrapper(string, fformat):\n",
    "    return np.array(datetime.strptime(string, fformat))"
   ]
  },
  {
   "cell_type": "code",
   "execution_count": 3,
   "metadata": {},
   "outputs": [],
   "source": [
    "def get_EXP():\n",
    "    \"\"\"\n",
    "    Return a list containing the months at which options that interest us expire.\n",
    "    \"\"\"\n",
    "    today = datetime.today()\n",
    "    if today <  get_exercise_time(today.year, today.month):\n",
    "        exp1 = f\"{str(today.year)[-2:]}{str(today.month).rjust(2,'0')}\"\n",
    "        exp2 = f\"{str((today+relativedelta(months=1)).year)[-2:]}{str((today+relativedelta(months=1)).month).rjust(2,'0')}\"\n",
    "        EXP = [[exp1, exp2], [exp1, exp2]]\n",
    "    else:\n",
    "        exp1 = f\"{str((today+relativedelta(months=1)).year)[-2:]}{str((today+relativedelta(months=1)).month).rjust(2,'0')}\"\n",
    "        exp2 = f\"{str((today+relativedelta(months=2)).year)[-2:]}{str((today+relativedelta(months=2)).month).rjust(2,'0')}\"\n",
    "        EXP = [[exp1, exp2], [exp1, exp2]]\n",
    "    return EXP"
   ]
  },
  {
   "cell_type": "code",
   "execution_count": 4,
   "metadata": {},
   "outputs": [],
   "source": [
    "def get_stk(CODE):\n",
    "    engine = sqlalchemy.create_engine('mysql+pymysql://Tim:{}@localhost:3306/options'.format('123456'))\n",
    "\n",
    "    df = pd.read_sql_table(table_name=CODE, con=engine, index_col='time')\n",
    "    df.replace(0, np.nan, inplace=True)\n",
    "    df.dropna(inplace=True)\n",
    "    current_price = df.iloc[-1, 1]\n",
    "\n",
    "    if current_price > 3:\n",
    "        strike = int(current_price*1000) - int(current_price*1000)%100\n",
    "    elif current_price < 3:\n",
    "        strike = int(current_price*1000) - int(current_price*1000)%50\n",
    "    else:\n",
    "        strike = 3000\n",
    "\n",
    "    strike_list = [strike]\n",
    "\n",
    "    for i in range(2):\n",
    "        if strike < 3000:\n",
    "            strike = strike + 50\n",
    "            strike_list.append(strike)\n",
    "        else:\n",
    "            strike = strike + 100\n",
    "            strike_list.append(strike)\n",
    "\n",
    "    strike = strike_list[0]\n",
    "\n",
    "    for i in range(2):\n",
    "        if strike <= 3000:\n",
    "            strike = strike - 50\n",
    "            strike_list.append(strike)\n",
    "        else:\n",
    "            strike = strike - 100\n",
    "            strike_list.append(strike)\n",
    "\n",
    "    output_list = []\n",
    "    for _ in strike_list:\n",
    "        output_list.append(str(_).rjust(5,'0'))\n",
    "\n",
    "    return sorted(output_list)\n",
    "\n",
    "def get_STK():\n",
    "    return [get_stk('510050'), get_stk('510300')]"
   ]
  },
  {
   "cell_type": "code",
   "execution_count": 5,
   "metadata": {},
   "outputs": [],
   "source": [
    "today = datetime.today()\n",
    "current_date = today.strftime('%Y-%m-%d')\n",
    "source_txt = f\"./txt/{current_date}.txt\" \n",
    "csv_dir = f'./csv/{current_date}'\n",
    "if not os.path.exists(csv_dir):\n",
    "    os.makedirs(csv_dir)"
   ]
  },
  {
   "cell_type": "code",
   "execution_count": null,
   "metadata": {},
   "outputs": [],
   "source": []
  },
  {
   "cell_type": "code",
   "execution_count": 6,
   "metadata": {},
   "outputs": [],
   "source": [
    "UNDL=[['510050'],['510300']]\n",
    "# UNDL"
   ]
  },
  {
   "cell_type": "code",
   "execution_count": 7,
   "metadata": {},
   "outputs": [],
   "source": [
    "EXP = get_EXP()\n",
    "# EXP"
   ]
  },
  {
   "cell_type": "code",
   "execution_count": 8,
   "metadata": {},
   "outputs": [],
   "source": [
    "STK = get_STK()\n",
    "# STK"
   ]
  },
  {
   "cell_type": "code",
   "execution_count": 9,
   "metadata": {},
   "outputs": [],
   "source": [
    "zs = zip(UNDL, EXP, STK)"
   ]
  },
  {
   "cell_type": "code",
   "execution_count": 10,
   "metadata": {},
   "outputs": [],
   "source": [
    "options = []\n",
    "code_call = []\n",
    "code_put = []\n",
    "for z in zs:\n",
    "    prods = itertools.product(z[0], z[1], z[2])\n",
    "    for prod in prods:\n",
    "        options.append('_'.join(prod)) \n",
    "        code_call.append(prod[0]+'C'+prod[1]+'M'+prod[2])\n",
    "        code_put.append(prod[0]+'P'+prod[1]+'M'+prod[2])"
   ]
  },
  {
   "cell_type": "code",
   "execution_count": 11,
   "metadata": {},
   "outputs": [],
   "source": [
    "df_underlyings = {}\n",
    "for undl in UNDL:\n",
    "    df = get_empty_frame()\n",
    "    df.drop(columns=['C','P','nc','np','ivc', 'ivp', 'ir', 'ineq'], inplace=True)\n",
    "    df_underlyings.update({undl[0]:df})"
   ]
  },
  {
   "cell_type": "code",
   "execution_count": 12,
   "metadata": {},
   "outputs": [],
   "source": [
    "df_options = {}\n",
    "for option in options:    \n",
    "    df = get_empty_frame()\n",
    "    df.drop(columns=['S','n', 'ivc', 'ivp', 'ir', 'ineq'], inplace=True)\n",
    "    current_time_object = (current_date + ' ' + df['time']).apply(strptime_wrapper, fformat = \"%Y-%m-%d %H:%M\")\n",
    "    T = get_T(option[7:9], option[9:11], current_time_object)\n",
    "    df['T'] = T\n",
    "    df_options.update({option:df})"
   ]
  },
  {
   "cell_type": "code",
   "execution_count": 13,
   "metadata": {},
   "outputs": [],
   "source": [
    "def from_txt_to_csv(UNDL=None, EXP=None, STK=None, r=0.0275, sigma=0.2):\n",
    "    last_size = 0\n",
    "    last_read = 0\n",
    "    pattern_code = re.compile('\"code\":\"(\\d+)\",')\n",
    "    pattern_time = re.compile('\"time\":(\\d+),')\n",
    "    \n",
    "    while(True):\n",
    "        time.sleep(3)\n",
    "        if last_size != os.stat(source_txt).st_size:\n",
    "            with open(source_txt, 'r') as rf:\n",
    "                this_read = 0\n",
    "                for line in rf:\n",
    "                    this_read += 1\n",
    "                    if this_read > last_read:  \n",
    "                        last_read = this_read\n",
    "\n",
    "                        match_code = re.search(pattern_code, line)\n",
    "                        match_time = re.search(pattern_time, line)\n",
    "\n",
    "                        if len(match_time.group(1))==5:\n",
    "                            web_time = '0' + match_time.group(1)[-5:-4] + ':' + match_time.group(1)[-4:-2]  + ':' + match_time.group(1)[-2:]\n",
    "                        else:\n",
    "                            web_time = match_time.group(1)[-6:-4] + ':' + match_time.group(1)[-4:-2]  + ':' + match_time.group(1)[-2:]\n",
    "\n",
    "                        if web_time[:-3] == '15:00':\n",
    "                            \n",
    "                            for underlying in df_underlyings:\n",
    "                                underlying_write = df_underlyings[underlying].replace(0, np.nan)\n",
    "                                underlying_write.set_index('time', inplace=True)\n",
    "                                underlying_write.to_csv(f'{csv_dir}/{underlying}.csv')\n",
    "                \n",
    "                            for option in df_options:\n",
    "                                option_write = df_options[option].replace(0, np.nan)\n",
    "                                option_write.set_index('time', inplace=True)\n",
    "                                option_write.to_csv(f'{csv_dir}/{option}.csv') \n",
    "                                \n",
    "                            print('All done.')\n",
    "                            \n",
    "                            return None\n",
    "\n",
    "                        if match_code!=None and match_code.group(1) in df_underlyings.keys():\n",
    "                            print('\\r',f'{web_time[:-3]}', end='')\n",
    "\n",
    "                            pattern_price = re.compile('\\[([\\d]+),([\\d.]+),([\\d]+|null)\\]')\n",
    "                            match_price = re.findall(pattern_price, line)\n",
    "\n",
    "                            i = df_underlyings[match_code.group(1)]['time']==web_time[:-3]\n",
    "\n",
    "                            if sum(i)!=0 and float(match_price[-1][1])>0.001:\n",
    "                                df_underlyings[match_code.group(1)].loc[i,'S'] = round((df_underlyings[match_code.group(1)].loc[i,'S']*df_underlyings[match_code.group(1)].loc[i,'n'] +float(match_price[-1][1]))/(df_underlyings[match_code.group(1)].loc[i,'n']+1),3)\n",
    "                                df_underlyings[match_code.group(1)].loc[i,'n'] += 1\n",
    "\n",
    "                        else:\n",
    "                            pattern_price = re.compile('\\[\\\"(510300[\\d\\w]+|510050[\\d\\w]+)\\s+\\\",([\\d.]+),[-\\d.]+,[\\d.]+,[\\d.]+\\]')\n",
    "                            match_price = re.findall(pattern_price, line)\n",
    "\n",
    "                            for e in match_price:\n",
    "                                op_type = e[0][6]\n",
    "                                key = e[0].replace('C','_')\n",
    "                                key = key.replace('P','_')\n",
    "                                key = key.replace('M','_')\n",
    "\n",
    "                                if key in df_options.keys() and op_type=='C':\n",
    "                                    K = float(key[-5:])/1000.0\n",
    "                                    i = df_options[key]['time']==web_time[:-3]\n",
    "                                    if sum(i)!=0 and float(e[1])>0.0001:\n",
    "                                        option_price = (df_options[key].loc[i,'C']*df_options[key].loc[i,'nc'] +float(e[1]))/(df_options[key].loc[i,'nc']+1)\n",
    "                                        df_options[key].loc[i,'C'] = round(option_price,4)\n",
    "                                        df_options[key].loc[i,'nc'] += 1\n",
    "\n",
    "\n",
    "                                elif key in df_options.keys():\n",
    "                                    K = float(key[-5:])/1000.0\n",
    "                                    i = df_options[key]['time']==web_time[:-3]\n",
    "                                    if sum(i)!=0 and float(e[1])>0.0001:\n",
    "                                        option_price = (df_options[key].loc[i,'P']*df_options[key].loc[i,'np'] +float(e[1]))/(df_options[key].loc[i,'np']+1)\n",
    "                                        df_options[key].loc[i,'P'] = round(option_price,4)\n",
    "                                        df_options[key].loc[i,'np'] += 1\n",
    "\n",
    "            last_size = os.stat(source_txt).st_size  "
   ]
  },
  {
   "cell_type": "code",
   "execution_count": 14,
   "metadata": {},
   "outputs": [
    {
     "name": "stdout",
     "output_type": "stream",
     "text": [
      " 14:59"
     ]
    },
    {
     "ename": "NameError",
     "evalue": "name 'write_count' is not defined",
     "output_type": "error",
     "traceback": [
      "\u001b[0;31m---------------------------------------------------------------------------\u001b[0m",
      "\u001b[0;31mNameError\u001b[0m                                 Traceback (most recent call last)",
      "\u001b[0;32m<ipython-input-14-dbbd5970a4f3>\u001b[0m in \u001b[0;36m<module>\u001b[0;34m\u001b[0m\n\u001b[0;32m----> 1\u001b[0;31m \u001b[0mfrom_txt_to_csv\u001b[0m\u001b[0;34m(\u001b[0m\u001b[0mUNDL\u001b[0m\u001b[0;34m=\u001b[0m\u001b[0mUNDL\u001b[0m\u001b[0;34m,\u001b[0m \u001b[0mEXP\u001b[0m\u001b[0;34m=\u001b[0m\u001b[0mEXP\u001b[0m\u001b[0;34m,\u001b[0m \u001b[0mSTK\u001b[0m\u001b[0;34m=\u001b[0m\u001b[0mSTK\u001b[0m\u001b[0;34m)\u001b[0m\u001b[0;34m\u001b[0m\u001b[0;34m\u001b[0m\u001b[0m\n\u001b[0m",
      "\u001b[0;32m<ipython-input-13-924cdbb9de6a>\u001b[0m in \u001b[0;36mfrom_txt_to_csv\u001b[0;34m(UNDL, EXP, STK, r, sigma)\u001b[0m\n\u001b[1;32m     35\u001b[0m                                 \u001b[0moption_write\u001b[0m\u001b[0;34m.\u001b[0m\u001b[0mto_csv\u001b[0m\u001b[0;34m(\u001b[0m\u001b[0;34mf'{csv_dir}/{option}.csv'\u001b[0m\u001b[0;34m)\u001b[0m\u001b[0;34m\u001b[0m\u001b[0;34m\u001b[0m\u001b[0m\n\u001b[1;32m     36\u001b[0m \u001b[0;34m\u001b[0m\u001b[0m\n\u001b[0;32m---> 37\u001b[0;31m                             \u001b[0mprint\u001b[0m\u001b[0;34m(\u001b[0m\u001b[0;34mf'All done. {write_count} written.'\u001b[0m\u001b[0;34m)\u001b[0m\u001b[0;34m\u001b[0m\u001b[0;34m\u001b[0m\u001b[0m\n\u001b[0m\u001b[1;32m     38\u001b[0m \u001b[0;34m\u001b[0m\u001b[0m\n\u001b[1;32m     39\u001b[0m                             \u001b[0;32mreturn\u001b[0m \u001b[0;32mNone\u001b[0m\u001b[0;34m\u001b[0m\u001b[0;34m\u001b[0m\u001b[0m\n",
      "\u001b[0;31mNameError\u001b[0m: name 'write_count' is not defined"
     ]
    }
   ],
   "source": [
    "from_txt_to_csv(UNDL=UNDL, EXP=EXP, STK=STK)"
   ]
  }
 ],
 "metadata": {
  "kernelspec": {
   "display_name": "Python 3",
   "language": "python",
   "name": "python3"
  },
  "language_info": {
   "codemirror_mode": {
    "name": "ipython",
    "version": 3
   },
   "file_extension": ".py",
   "mimetype": "text/x-python",
   "name": "python",
   "nbconvert_exporter": "python",
   "pygments_lexer": "ipython3",
   "version": "3.7.4"
  }
 },
 "nbformat": 4,
 "nbformat_minor": 2
}
