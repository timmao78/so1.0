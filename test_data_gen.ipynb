{
 "cells": [
  {
   "cell_type": "code",
   "execution_count": 1,
   "metadata": {},
   "outputs": [],
   "source": [
    "import time\n",
    "import os\n",
    "import re\n",
    "import numpy as np\n",
    "import pandas as pd\n",
    "import itertools\n",
    "from datetime import datetime\n",
    "from bsm_option_class import call_option, put_option\n",
    "from so_func import get_exercise_time, get_T, get_empty_frame\n",
    "from dateutil.relativedelta import relativedelta\n",
    "import sqlalchemy"
   ]
  },
  {
   "cell_type": "code",
   "execution_count": 2,
   "metadata": {},
   "outputs": [],
   "source": [
    "def strptime_wrapper(string, fformat):\n",
    "    return np.array(datetime.strptime(string, fformat))"
   ]
  },
  {
   "cell_type": "code",
   "execution_count": 3,
   "metadata": {},
   "outputs": [],
   "source": [
    "def get_EXP():\n",
    "    \"\"\"\n",
    "    Return a list containing the months at which options that interest us expire.\n",
    "    \"\"\"\n",
    "    today = datetime.today()\n",
    "    if today <  get_exercise_time(today.year, today.month):\n",
    "        exp1 = f\"{str(today.year)[-2:]}{str(today.month).rjust(2,'0')}\"\n",
    "        exp2 = f\"{str((today+relativedelta(months=1)).year)[-2:]}{str((today+relativedelta(months=1)).month).rjust(2,'0')}\"\n",
    "        EXP = [[exp1, exp2], [exp1, exp2]]\n",
    "    else:\n",
    "        exp1 = f\"{str((today+relativedelta(months=1)).year)[-2:]}{str((today+relativedelta(months=1)).month).rjust(2,'0')}\"\n",
    "        exp2 = f\"{str((today+relativedelta(months=2)).year)[-2:]}{str((today+relativedelta(months=2)).month).rjust(2,'0')}\"\n",
    "        EXP = [[exp1, exp2], [exp1, exp2]]\n",
    "    return EXP"
   ]
  },
  {
   "cell_type": "code",
   "execution_count": 4,
   "metadata": {},
   "outputs": [],
   "source": [
    "def get_stk(CODE):\n",
    "    engine = sqlalchemy.create_engine('mysql+pymysql://Tim:{}@localhost:3306/options'.format('123456'))\n",
    "\n",
    "    df = pd.read_sql_table(table_name=CODE, con=engine, index_col='time')\n",
    "    df.replace(0, np.nan, inplace=True)\n",
    "    df.dropna(inplace=True)\n",
    "    current_price = df.iloc[-1, 1]\n",
    "\n",
    "    if current_price > 3:\n",
    "        strike = int(current_price*1000) - int(current_price*1000)%100\n",
    "    elif current_price < 3:\n",
    "        strike = int(current_price*1000) - int(current_price*1000)%50\n",
    "    else:\n",
    "        strike = 3000\n",
    "\n",
    "    strike_list = [strike]\n",
    "\n",
    "    for i in range(2):\n",
    "        if strike < 3000:\n",
    "            strike = strike + 50\n",
    "            strike_list.append(strike)\n",
    "        else:\n",
    "            strike = strike + 100\n",
    "            strike_list.append(strike)\n",
    "\n",
    "    strike = strike_list[0]\n",
    "\n",
    "    for i in range(2):\n",
    "        if strike <= 3000:\n",
    "            strike = strike - 50\n",
    "            strike_list.append(strike)\n",
    "        else:\n",
    "            strike = strike - 100\n",
    "            strike_list.append(strike)\n",
    "\n",
    "    output_list = []\n",
    "    for _ in strike_list:\n",
    "        output_list.append(str(_).rjust(5,'0'))\n",
    "\n",
    "    return sorted(output_list)\n",
    "\n",
    "def get_STK():\n",
    "    return [get_stk('510050'), get_stk('510300')]"
   ]
  },
  {
   "cell_type": "code",
   "execution_count": 5,
   "metadata": {},
   "outputs": [],
   "source": [
    "today = datetime.today()\n",
    "current_date = today.strftime('%Y-%m-%d')\n",
    "source_txt = f\"{current_date}.txt\" \n",
    "# source_txt"
   ]
  },
  {
   "cell_type": "code",
   "execution_count": 6,
   "metadata": {},
   "outputs": [],
   "source": [
    "UNDL=[['510050'],['510300']]\n",
    "# UNDL"
   ]
  },
  {
   "cell_type": "code",
   "execution_count": 7,
   "metadata": {},
   "outputs": [],
   "source": [
    "EXP = get_EXP()\n",
    "# EXP"
   ]
  },
  {
   "cell_type": "code",
   "execution_count": 8,
   "metadata": {},
   "outputs": [],
   "source": [
    "STK = get_STK()\n",
    "# STK"
   ]
  },
  {
   "cell_type": "code",
   "execution_count": 9,
   "metadata": {},
   "outputs": [],
   "source": [
    "zs = zip(UNDL, EXP, STK)"
   ]
  },
  {
   "cell_type": "code",
   "execution_count": 10,
   "metadata": {},
   "outputs": [],
   "source": [
    "options = []\n",
    "code_call = []\n",
    "code_put = []\n",
    "for z in zs:\n",
    "    prods = itertools.product(z[0], z[1], z[2])\n",
    "    for prod in prods:\n",
    "        options.append('_'.join(prod)) \n",
    "        code_call.append(prod[0]+'C'+prod[1]+'M'+prod[2])\n",
    "        code_put.append(prod[0]+'P'+prod[1]+'M'+prod[2])"
   ]
  },
  {
   "cell_type": "code",
   "execution_count": 11,
   "metadata": {},
   "outputs": [],
   "source": [
    "df_underlyings = {}\n",
    "for undl in UNDL:\n",
    "    df = get_empty_frame()\n",
    "    df.drop(columns=['C','P','nc','np','ivc', 'ivp', 'ir', 'ineq'], inplace=True)\n",
    "    df_underlyings.update({undl[0]:df})"
   ]
  },
  {
   "cell_type": "code",
   "execution_count": 12,
   "metadata": {},
   "outputs": [],
   "source": [
    "df_options = {}\n",
    "for option in options:    \n",
    "    df = get_empty_frame()\n",
    "    df.drop(columns=['S','n', 'ivc', 'ivp', 'ir', 'ineq'], inplace=True)\n",
    "    current_time_object = (current_date + ' ' + df['time']).apply(strptime_wrapper, fformat = \"%Y-%m-%d %H:%M\")\n",
    "    T = get_T(option[7:9], option[9:11], current_time_object)\n",
    "    df['T'] = T\n",
    "    df_options.update({option:df})"
   ]
  },
  {
   "cell_type": "code",
   "execution_count": 13,
   "metadata": {},
   "outputs": [],
   "source": [
    "df_underlyings['510050']['S'] = int(STK[0][2])/1000\n",
    "df_underlyings['510300']['S'] = int(STK[1][2])/1000"
   ]
  },
  {
   "cell_type": "code",
   "execution_count": 14,
   "metadata": {},
   "outputs": [],
   "source": [
    "r = 0.025\n",
    "sigma = 0.3\n",
    "for option in df_options:\n",
    "    sigma = sigma+0.01\n",
    "    K = int(option[-5:])/1000\n",
    "    \n",
    "    oc = call_option(df_underlyings[option[:6]]['S'], K, df_options[option]['T'], r, sigma)\n",
    "    df_options[option]['C'] = oc.value()\n",
    "    \n",
    "    op =  put_option(df_underlyings[option[:6]]['S'], K, df_options[option]['T'], r, sigma)\n",
    "    df_options[option]['P'] = op.value()\n",
    "    \n",
    "    df_options[option].set_index('time', inplace=True)\n",
    "    df_options[option].to_csv(f'{option}.csv')"
   ]
  },
  {
   "cell_type": "code",
   "execution_count": 15,
   "metadata": {},
   "outputs": [],
   "source": [
    "df_underlyings['510050'].set_index('time', inplace=True)\n",
    "df_underlyings['510050'].to_csv('510050.csv')\n",
    "df_underlyings['510300'].set_index('time', inplace=True)\n",
    "df_underlyings['510300'].to_csv('510300.csv')"
   ]
  }
 ],
 "metadata": {
  "kernelspec": {
   "display_name": "Python 3",
   "language": "python",
   "name": "python3"
  },
  "language_info": {
   "codemirror_mode": {
    "name": "ipython",
    "version": 3
   },
   "file_extension": ".py",
   "mimetype": "text/x-python",
   "name": "python",
   "nbconvert_exporter": "python",
   "pygments_lexer": "ipython3",
   "version": "3.7.4"
  }
 },
 "nbformat": 4,
 "nbformat_minor": 2
}
